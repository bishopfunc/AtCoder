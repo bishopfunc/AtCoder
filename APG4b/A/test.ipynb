{
 "cells": [
  {
   "cell_type": "code",
   "execution_count": 9,
   "metadata": {},
   "outputs": [
    {
     "name": "stdout",
     "output_type": "stream",
     "text": [
      "bit: 0, i: 0, bit >> i: 0, (bit >> i) & 1: 0\n",
      "bit: 0, i: 1, bit >> i: 0, (bit >> i) & 1: 0\n",
      "bit: 0, i: 2, bit >> i: 0, (bit >> i) & 1: 0\n",
      "bit: 1, i: 0, bit >> i: 1, (bit >> i) & 1: 1\n",
      "bit: 1, i: 1, bit >> i: 0, (bit >> i) & 1: 0\n",
      "bit: 1, i: 2, bit >> i: 0, (bit >> i) & 1: 0\n",
      "bit: 2, i: 0, bit >> i: 2, (bit >> i) & 1: 0\n",
      "bit: 2, i: 1, bit >> i: 1, (bit >> i) & 1: 1\n",
      "bit: 2, i: 2, bit >> i: 0, (bit >> i) & 1: 0\n",
      "bit: 3, i: 0, bit >> i: 3, (bit >> i) & 1: 1\n",
      "bit: 3, i: 1, bit >> i: 1, (bit >> i) & 1: 1\n",
      "bit: 3, i: 2, bit >> i: 0, (bit >> i) & 1: 0\n",
      "bit: 4, i: 0, bit >> i: 4, (bit >> i) & 1: 0\n",
      "bit: 4, i: 1, bit >> i: 2, (bit >> i) & 1: 0\n",
      "bit: 4, i: 2, bit >> i: 1, (bit >> i) & 1: 1\n",
      "bit: 5, i: 0, bit >> i: 5, (bit >> i) & 1: 1\n",
      "bit: 5, i: 1, bit >> i: 2, (bit >> i) & 1: 0\n",
      "bit: 5, i: 2, bit >> i: 1, (bit >> i) & 1: 1\n",
      "bit: 6, i: 0, bit >> i: 6, (bit >> i) & 1: 0\n",
      "bit: 6, i: 1, bit >> i: 3, (bit >> i) & 1: 1\n",
      "bit: 6, i: 2, bit >> i: 1, (bit >> i) & 1: 1\n",
      "bit: 7, i: 0, bit >> i: 7, (bit >> i) & 1: 1\n",
      "bit: 7, i: 1, bit >> i: 3, (bit >> i) & 1: 1\n",
      "bit: 7, i: 2, bit >> i: 1, (bit >> i) & 1: 1\n",
      "4\n"
     ]
    }
   ],
   "source": [
    "n = int(input())\n",
    "\n",
    "T = []\n",
    "for i in range(n):\n",
    "    T.append(int(input()))\n",
    "\n",
    "ans = 1e5\n",
    "for bit in range(2**n):\n",
    "    time1 = 0 # 肉焼き器1号で焼き終わる時間\n",
    "    time2 = 0 # 肉焼き器2号で焼き終わる時間\n",
    "    for i in range(n):\n",
    "        print(f\"bit: {bit}, i: {i}, bit >> i: {(bit >> i)}, (bit >> i) & 1: {(bit >> i) & 1}\")\n",
    "        if (bit >> i) & 1: # bitが1なら1号で焼く\n",
    "            time1 += T[i]\n",
    "        else:\n",
    "            time2 += T[i]\n",
    "    tmp = max(time1,time2)\n",
    "    ans = min(ans,tmp)\n",
    "\n",
    "print(ans)"
   ]
  },
  {
   "cell_type": "code",
   "execution_count": null,
   "metadata": {},
   "outputs": [],
   "source": []
  },
  {
   "cell_type": "code",
   "execution_count": null,
   "metadata": {},
   "outputs": [],
   "source": []
  }
 ],
 "metadata": {
  "kernelspec": {
   "display_name": "Python 3.9.10 ('test')",
   "language": "python",
   "name": "python3"
  },
  "language_info": {
   "codemirror_mode": {
    "name": "ipython",
    "version": 3
   },
   "file_extension": ".py",
   "mimetype": "text/x-python",
   "name": "python",
   "nbconvert_exporter": "python",
   "pygments_lexer": "ipython3",
   "version": "3.9.10"
  },
  "orig_nbformat": 4,
  "vscode": {
   "interpreter": {
    "hash": "b93ae23b7538ee79e0a59fe55b5ee8bd008f440c137634b5a5f8ec66d56efcc5"
   }
  }
 },
 "nbformat": 4,
 "nbformat_minor": 2
}
